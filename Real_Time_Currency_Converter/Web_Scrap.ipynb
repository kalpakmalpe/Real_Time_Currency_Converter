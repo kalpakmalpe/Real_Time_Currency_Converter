{
 "cells": [
  {
   "cell_type": "code",
   "execution_count": null,
   "metadata": {},
   "outputs": [
    {
     "name": "stdout",
     "output_type": "stream",
     "text": [
      " * Serving Flask app \"__main__\" (lazy loading)\n",
      " * Environment: production\n",
      "   WARNING: Do not use the development server in a production environment.\n",
      "   Use a production WSGI server instead.\n",
      " * Debug mode: off\n"
     ]
    },
    {
     "name": "stderr",
     "output_type": "stream",
     "text": [
      " * Running on http://127.0.0.1:5000/ (Press CTRL+C to quit)\n",
      "127.0.0.1 - - [03/Jan/2020 19:31:20] \"GET / HTTP/1.1\" 200 -\n"
     ]
    }
   ],
   "source": [
    "from flask import Flask, flash, redirect, render_template, request, url_for\n",
    "from bs4 import BeautifulSoup\n",
    "import requests\n",
    "\n",
    "app = Flask(__name__)\n",
    "\n",
    "kal=\"\"\n",
    "cr=\"\"\n",
    "\n",
    "@app.route('/')\n",
    "def index():\n",
    "\n",
    "    page=requests.get('https://uk.finance.yahoo.com/currencies')\n",
    "    soup=BeautifulSoup(page.content,'html.parser')\n",
    "\n",
    "    table=soup.find('table')\n",
    "    rows=table.find_all('tr')\n",
    "    cy_data=[]\n",
    "\n",
    "    for row in rows:\n",
    "        cells=row.find_all('td')\n",
    "        cells=cells[1:3]\n",
    "        cy_data.append([cell.text for cell in cells])\n",
    "    \n",
    "    ac=(cy_data)\n",
    "    global cr\n",
    "    cr=ac\n",
    "    \n",
    "    my_dict={}\n",
    "    for i in range(1,29):\n",
    "        d=ac[i]\n",
    "        my_dict.update({d[0]:[1]})\n",
    "        #print(my_dict)\n",
    "    #print(my_dict[\"GBP/JPY\"])\n",
    "   # return render_template('currency.html')\n",
    "    return render_template('index.html',data=ac)\n",
    "\n",
    "@app.route(\"/test\" , methods=['GET', 'POST'])\n",
    "def test():\n",
    "    select = request.form.get('comp_select')\n",
    "    #return(str(select)) # just to see what select is\n",
    "    global kal\n",
    "    kal=select\n",
    "    return render_template(\"index.html\",cs=select,data=cr)\n",
    "    \n",
    "    \n",
    "\n",
    "\n",
    "@app.route(\"/test2\" , methods=['GET', 'POST'])\n",
    "def test2():\n",
    "#      if request.method == 'POST':\n",
    "#         try:\n",
    "            num = float(request.form['num'])\n",
    "            num1=float(num)\n",
    "            num2=float(kal)\n",
    "            conv=num1*num2\n",
    "            print(conv)\n",
    "            return render_template(\"index.html\",convs=conv,nums=num1,cs=kal,data=cr)\n",
    "\n",
    "#         finally:\n",
    "#             return render_template(\"index.html\",convs=conv)\n",
    "\n",
    "    \n",
    "        \n",
    "        \n",
    "\n",
    "if __name__=='__main__':\n",
    "    app.run()\n"
   ]
  },
  {
   "cell_type": "code",
   "execution_count": null,
   "metadata": {},
   "outputs": [],
   "source": []
  }
 ],
 "metadata": {
  "kernelspec": {
   "display_name": "Python 3",
   "language": "python",
   "name": "python3"
  },
  "language_info": {
   "codemirror_mode": {
    "name": "ipython",
    "version": 3
   },
   "file_extension": ".py",
   "mimetype": "text/x-python",
   "name": "python",
   "nbconvert_exporter": "python",
   "pygments_lexer": "ipython3",
   "version": "3.7.3"
  }
 },
 "nbformat": 4,
 "nbformat_minor": 2
}
